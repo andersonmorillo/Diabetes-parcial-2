{
 "cells": [
  {
   "cell_type": "markdown",
   "id": "a5c09605",
   "metadata": {},
   "source": [
    "#Content\n",
    "-1 Python Libraries\n",
    "\n",
    "-2 Data Content\n",
    "\n",
    "-3 Read and Analyse Data\n",
    "\n",
    "-4 Dependent Variable Analysis\n",
    "\n",
    "-5 Correlation Between Features\n",
    "\n",
    "-6 Distribution of Features\n",
    "\n",
    "-7 Preprocessing: Missing Value Problem\n",
    "\n",
    "-8 Preprocessing: Train-Test Split and Normalization\n",
    "\n",
    "-9 Modelling: comparing models\n",
    "\n",
    "-10 Metrics Accuracy, Precision, Recall, F1, MSE\n",
    "\n",
    "-11 Nonparametric statistics\n",
    "\n",
    "-12 Conclusion\n"
   ]
  },
  {
   "cell_type": "markdown",
   "source": [
    "##Python Libraries"
   ],
   "metadata": {
    "collapsed": false,
    "pycharm": {
     "name": "#%% md\n"
    }
   }
  },
  {
   "cell_type": "code",
   "execution_count": 5,
   "id": "0c158acc",
   "metadata": {
    "scrolled": true
   },
   "outputs": [],
   "source": [
    "import pandas as pd\n",
    "import numpy as np\n",
    "import matplotlib.pyplot as plt\n",
    "import seaborn as sns\n",
    "\n",
    "## For Preprocessing\n",
    "from sklearn.preprocessing import StandardScaler\n",
    "\n",
    "####################\n",
    "from sklearn.model_selection import train_test_split\n",
    "from sklearn.model_selection import cross_val_score\n",
    "from sklearn.model_selection import GridSearchCV\n",
    "\n",
    "\n",
    "## Machine Learning Algorithm\n",
    "from sklearn.svm import SVC\n",
    "from sklearn.ensemble import RandomForestClassifier\n",
    "from sklearn.ensemble import GradientBoostingClassifier\n",
    "from xgboost import XGBClassifier\n",
    "\n",
    "## To evaluate models\n",
    "from sklearn.metrics import accuracy_score\n",
    "from sklearn.metrics import classification_report\n",
    "from sklearn.metrics import confusion_matrix\n",
    "\n",
    "data = pd.read_csv('D:/Anderson/Downloads/data/train_diabetes.csv')"
   ]
  },
  {
   "cell_type": "markdown",
   "id": "79f06fba",
   "metadata": {},
   "source": [
    "##DATA CONTENT\n",
    "\n",
    "Columns Description:\n",
    "Number of times pregnant\n",
    "Plasma glucose concentration 2 hours in an oral glucose tolerance test\n",
    "Diastolic blood pressure (mm Hg)\n",
    "Triceps skin fold thickness (mm)\n",
    "2-Hour serum insulin (mu U/ml)\n",
    "Body mass index (weight in kg/(height in m)^2)\n",
    "Diabetes pedigree function\n",
    "Age (years)\n",
    "Class variable (0 or 1)"
   ]
  },
  {
   "cell_type": "markdown",
   "id": "dd346aad",
   "metadata": {},
   "source": [
    "guide: https://www.kaggle.com/code/alibabaei78/diabetesclassificationproject\n",
    "repetir el video de inteligencia: https://tecnoutb.sharepoint.com/sites/INTELIGENCIAARTIFICIAL-1944-202210/Documentos%20compartidos/Forms/AllItems.aspx?id=%2Fsites%2FINTELIGENCIAARTIFICIAL%2D1944%2D202210%2FDocumentos%20compartidos%2FGeneral%2FRecordings%2FReuni%C3%B3n%20en%20%5FGeneral%5F%2D20220407%5F072231%2DGrabaci%C3%B3n%20de%20la%20reuni%C3%B3n%2Emp4&parent=%2Fsites%2FINTELIGENCIAARTIFICIAL%2D1944%2D202210%2FDocumentos%20compartidos%2FGeneral%2FRecordings"
   ]
  },
  {
   "cell_type": "markdown",
   "id": "97034ada",
   "metadata": {},
   "source": [
    "DATA ANALISIS"
   ]
  },
  {
   "cell_type": "code",
   "execution_count": 6,
   "id": "5bbc1257",
   "metadata": {},
   "outputs": [
    {
     "data": {
      "text/plain": "   p_id  no_times_pregnant  glucose_concentration  blood_pressure  \\\n0   316                  2                    112              68   \n1    25                 11                    143              94   \n2   710                  2                     93              64   \n3   658                  1                    120              80   \n4   542                  3                    128              72   \n5   152                  4                    114              65   \n6   173                  2                     87               0   \n7   276                  2                    100              70   \n8   624                  0                     94              70   \n9   443                  4                    117              64   \n\n   skin_fold_thickness  serum_insulin   bmi  diabetes pedigree  age  diabetes  \n0                   22             94  34.1              0.315   26         0  \n1                   33            146  36.6              0.254   51         1  \n2                   32            160  38.0              0.674   23         1  \n3                   48            200  38.9              1.162   41         0  \n4                   25            190  32.4              0.549   27         1  \n5                    0              0  21.9              0.432   37         0  \n6                   23              0  28.9              0.773   25         0  \n7                   52             57  40.5              0.677   25         0  \n8                   27            115  43.5              0.347   21         0  \n9                   27            120  33.2              0.230   24         0  ",
      "text/html": "<div>\n<style scoped>\n    .dataframe tbody tr th:only-of-type {\n        vertical-align: middle;\n    }\n\n    .dataframe tbody tr th {\n        vertical-align: top;\n    }\n\n    .dataframe thead th {\n        text-align: right;\n    }\n</style>\n<table border=\"1\" class=\"dataframe\">\n  <thead>\n    <tr style=\"text-align: right;\">\n      <th></th>\n      <th>p_id</th>\n      <th>no_times_pregnant</th>\n      <th>glucose_concentration</th>\n      <th>blood_pressure</th>\n      <th>skin_fold_thickness</th>\n      <th>serum_insulin</th>\n      <th>bmi</th>\n      <th>diabetes pedigree</th>\n      <th>age</th>\n      <th>diabetes</th>\n    </tr>\n  </thead>\n  <tbody>\n    <tr>\n      <th>0</th>\n      <td>316</td>\n      <td>2</td>\n      <td>112</td>\n      <td>68</td>\n      <td>22</td>\n      <td>94</td>\n      <td>34.1</td>\n      <td>0.315</td>\n      <td>26</td>\n      <td>0</td>\n    </tr>\n    <tr>\n      <th>1</th>\n      <td>25</td>\n      <td>11</td>\n      <td>143</td>\n      <td>94</td>\n      <td>33</td>\n      <td>146</td>\n      <td>36.6</td>\n      <td>0.254</td>\n      <td>51</td>\n      <td>1</td>\n    </tr>\n    <tr>\n      <th>2</th>\n      <td>710</td>\n      <td>2</td>\n      <td>93</td>\n      <td>64</td>\n      <td>32</td>\n      <td>160</td>\n      <td>38.0</td>\n      <td>0.674</td>\n      <td>23</td>\n      <td>1</td>\n    </tr>\n    <tr>\n      <th>3</th>\n      <td>658</td>\n      <td>1</td>\n      <td>120</td>\n      <td>80</td>\n      <td>48</td>\n      <td>200</td>\n      <td>38.9</td>\n      <td>1.162</td>\n      <td>41</td>\n      <td>0</td>\n    </tr>\n    <tr>\n      <th>4</th>\n      <td>542</td>\n      <td>3</td>\n      <td>128</td>\n      <td>72</td>\n      <td>25</td>\n      <td>190</td>\n      <td>32.4</td>\n      <td>0.549</td>\n      <td>27</td>\n      <td>1</td>\n    </tr>\n    <tr>\n      <th>5</th>\n      <td>152</td>\n      <td>4</td>\n      <td>114</td>\n      <td>65</td>\n      <td>0</td>\n      <td>0</td>\n      <td>21.9</td>\n      <td>0.432</td>\n      <td>37</td>\n      <td>0</td>\n    </tr>\n    <tr>\n      <th>6</th>\n      <td>173</td>\n      <td>2</td>\n      <td>87</td>\n      <td>0</td>\n      <td>23</td>\n      <td>0</td>\n      <td>28.9</td>\n      <td>0.773</td>\n      <td>25</td>\n      <td>0</td>\n    </tr>\n    <tr>\n      <th>7</th>\n      <td>276</td>\n      <td>2</td>\n      <td>100</td>\n      <td>70</td>\n      <td>52</td>\n      <td>57</td>\n      <td>40.5</td>\n      <td>0.677</td>\n      <td>25</td>\n      <td>0</td>\n    </tr>\n    <tr>\n      <th>8</th>\n      <td>624</td>\n      <td>0</td>\n      <td>94</td>\n      <td>70</td>\n      <td>27</td>\n      <td>115</td>\n      <td>43.5</td>\n      <td>0.347</td>\n      <td>21</td>\n      <td>0</td>\n    </tr>\n    <tr>\n      <th>9</th>\n      <td>443</td>\n      <td>4</td>\n      <td>117</td>\n      <td>64</td>\n      <td>27</td>\n      <td>120</td>\n      <td>33.2</td>\n      <td>0.230</td>\n      <td>24</td>\n      <td>0</td>\n    </tr>\n  </tbody>\n</table>\n</div>"
     },
     "execution_count": 6,
     "metadata": {},
     "output_type": "execute_result"
    }
   ],
   "source": [
    "data.head(10)"
   ]
  },
  {
   "cell_type": "code",
   "execution_count": null,
   "id": "6e5be898",
   "metadata": {},
   "outputs": [],
   "source": []
  }
 ],
 "metadata": {
  "kernelspec": {
   "display_name": "Python 3 (ipykernel)",
   "language": "python",
   "name": "python3"
  },
  "language_info": {
   "codemirror_mode": {
    "name": "ipython",
    "version": 3
   },
   "file_extension": ".py",
   "mimetype": "text/x-python",
   "name": "python",
   "nbconvert_exporter": "python",
   "pygments_lexer": "ipython3",
   "version": "3.9.7"
  }
 },
 "nbformat": 4,
 "nbformat_minor": 5
}