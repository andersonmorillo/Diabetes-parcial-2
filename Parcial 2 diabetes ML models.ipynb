{
 "cells": [
  {
   "cell_type": "markdown",
   "id": "a5c09605",
   "metadata": {},
   "source": [
    "Content\n",
    "1 Python Libraries\n\n",
    "2 Data Content\n\n",
    "3 Read and Analyse Data\n\n",
    "4 Dependent Variable Analysis\n\n",
    "5 Correlation Between Features\n\n",
    "6 Distribution of Features\n\n",
    "7 Preprocessing: Missing Value Problem\n\n",
    "8 Preprocessing: Train-Test Split and Normalization\n\n",
    "9 Modelling: comparing models\n\n",
    "10 Metrics Accuracy, Precision, Recall, F1, MSE\n\n",
    "11 Nonparametric statistics\n\n",
    "12 Conclusion"
   ]
  },
  {
   "cell_type": "code",
   "execution_count": 1,
   "id": "0c158acc",
   "metadata": {
    "scrolled": true
   },
   "outputs": [
    {
     "ename": "ModuleNotFoundError",
     "evalue": "No module named 'seaborn'",
     "output_type": "error",
     "traceback": [
      "\u001B[1;31m---------------------------------------------------------------------------\u001B[0m",
      "\u001B[1;31mModuleNotFoundError\u001B[0m                       Traceback (most recent call last)",
      "\u001B[1;32m~\\AppData\\Local\\Temp/ipykernel_14432/1794443512.py\u001B[0m in \u001B[0;36m<module>\u001B[1;34m\u001B[0m\n\u001B[0;32m      2\u001B[0m \u001B[1;32mimport\u001B[0m \u001B[0mnumpy\u001B[0m \u001B[1;32mas\u001B[0m \u001B[0mnp\u001B[0m\u001B[1;33m\u001B[0m\u001B[1;33m\u001B[0m\u001B[0m\n\u001B[0;32m      3\u001B[0m \u001B[1;32mimport\u001B[0m \u001B[0mmatplotlib\u001B[0m\u001B[1;33m.\u001B[0m\u001B[0mpyplot\u001B[0m \u001B[1;32mas\u001B[0m \u001B[0mplt\u001B[0m\u001B[1;33m\u001B[0m\u001B[1;33m\u001B[0m\u001B[0m\n\u001B[1;32m----> 4\u001B[1;33m \u001B[1;32mimport\u001B[0m \u001B[0mseaborn\u001B[0m \u001B[1;32mas\u001B[0m \u001B[0msns\u001B[0m\u001B[1;33m\u001B[0m\u001B[1;33m\u001B[0m\u001B[0m\n\u001B[0m\u001B[0;32m      5\u001B[0m \u001B[1;33m\u001B[0m\u001B[0m\n\u001B[0;32m      6\u001B[0m \u001B[1;31m## For Preprocessing\u001B[0m\u001B[1;33m\u001B[0m\u001B[1;33m\u001B[0m\u001B[0m\n",
      "\u001B[1;31mModuleNotFoundError\u001B[0m: No module named 'seaborn'"
     ]
    }
   ],
   "source": [
    "import pandas as pd\n",
    "import numpy as np\n",
    "import matplotlib.pyplot as plt\n",
    "import seaborn as sns\n",
    "\n",
    "## For Preprocessing\n",
    "from sklearn.preprocessing import StandardScaler\n",
    "\n",
    "####################\n",
    "from sklearn.model_selection import train_test_split\n",
    "from sklearn.model_selection import cross_val_score\n",
    "from sklearn.model_selection import GridSearchCV\n",
    "\n",
    "\n",
    "## Machine Learning Algorithm\n",
    "from sklearn.svm import SVC\n",
    "from sklearn.ensemble import RandomForestClassifier\n",
    "from sklearn.ensemble import GradientBoostingClassifier\n",
    "from xgboost import XGBClassifier\n",
    "\n",
    "## To evaluate models\n",
    "from sklearn.metrics import accuracy_score\n",
    "from sklearn.metrics import classification_report\n",
    "from sklearn.metrics import confusion_matrix\n",
    "\n",
    "data = pd.read_csv('D:/Anderson/Downloads/data/train_diabetes.csv')"
   ]
  },
  {
   "cell_type": "markdown",
   "id": "79f06fba",
   "metadata": {},
   "source": [
    "DATA CONTENT\n",
    "\n",
    "Columns Description:\n",
    "Number of times pregnant\n",
    "Plasma glucose concentration 2 hours in an oral glucose tolerance test\n",
    "Diastolic blood pressure (mm Hg)\n",
    "Triceps skin fold thickness (mm)\n",
    "2-Hour serum insulin (mu U/ml)\n",
    "Body mass index (weight in kg/(height in m)^2)\n",
    "Diabetes pedigree function\n",
    "Age (years)\n",
    "Class variable (0 or 1)"
   ]
  },
  {
   "cell_type": "markdown",
   "id": "dd346aad",
   "metadata": {},
   "source": [
    "guide: https://www.kaggle.com/code/alibabaei78/diabetesclassificationproject\n",
    "repetir el video de inteligencia: https://tecnoutb.sharepoint.com/sites/INTELIGENCIAARTIFICIAL-1944-202210/Documentos%20compartidos/Forms/AllItems.aspx?id=%2Fsites%2FINTELIGENCIAARTIFICIAL%2D1944%2D202210%2FDocumentos%20compartidos%2FGeneral%2FRecordings%2FReuni%C3%B3n%20en%20%5FGeneral%5F%2D20220407%5F072231%2DGrabaci%C3%B3n%20de%20la%20reuni%C3%B3n%2Emp4&parent=%2Fsites%2FINTELIGENCIAARTIFICIAL%2D1944%2D202210%2FDocumentos%20compartidos%2FGeneral%2FRecordings"
   ]
  },
  {
   "cell_type": "markdown",
   "id": "97034ada",
   "metadata": {},
   "source": [
    "DATA ANALISIS"
   ]
  },
  {
   "cell_type": "code",
   "execution_count": null,
   "id": "5bbc1257",
   "metadata": {},
   "outputs": [],
   "source": [
    "data.head(10)"
   ]
  },
  {
   "cell_type": "code",
   "execution_count": null,
   "id": "6e5be898",
   "metadata": {},
   "outputs": [],
   "source": []
  }
 ],
 "metadata": {
  "kernelspec": {
   "display_name": "Python 3 (ipykernel)",
   "language": "python",
   "name": "python3"
  },
  "language_info": {
   "codemirror_mode": {
    "name": "ipython",
    "version": 3
   },
   "file_extension": ".py",
   "mimetype": "text/x-python",
   "name": "python",
   "nbconvert_exporter": "python",
   "pygments_lexer": "ipython3",
   "version": "3.9.7"
  }
 },
 "nbformat": 4,
 "nbformat_minor": 5
}
